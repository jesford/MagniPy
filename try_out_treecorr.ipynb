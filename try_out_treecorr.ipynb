{
 "cells": [
  {
   "cell_type": "markdown",
   "metadata": {},
   "source": [
    "# Investigate TreeCorr for Magnification\n",
    "---\n",
    "\n",
    "Resources:\n",
    "- Example Python code from TreeCorr [wiki](https://github.com/rmjarvis/TreeCorr/wiki/Guide-to-using-TreeCorr-in-Python)\n",
    "- TreeCorr [Documentation](http://rmjarvis.github.io/TreeCorr/html/index.html)\n",
    "- TreeCorr [on GitHub](https://github.com/rmjarvis/TreeCorr/)\n",
    "- DESC [notebook](https://github.com/DarkEnergyScienceCollaboration/2pt_validation/blob/master/ipynb/treecorr_example.ipynb)\n",
    "- Dr. Phil Marshall's [notebook](https://github.com/drphilmarshall/StatisticalMethods/blob/03774abb4b92b30f381125e2d2e535e624f3e424/examples/SDSScatalog/CorrFunc.ipynb)\n",
    "- Chris Davis' [notebook](https://github.com/cpadavis/cluster-z/blob/2f71a7c36bc9da8c369c1185ee5a7b39387cf4cd/notebooks/15_01_21__example_autocorrelation.ipynb)\n",
    "\n",
    "Notes:\n",
    "- `NGCorrelation` and `NKCorrelation` already have a `xi` attribute, but this is just the basic estimator $w = \\frac{DD-RR}{RR}$\n",
    "- both of above can compute Landy-Szalay *auto*-correlation estimator $w = \\frac{DD-2DR+RR}{RR}$ using `calculateXi()`\n",
    "- I don't think they have Landy-Szalay *cross*-correlation build in\n",
    "- for full Landy-Szalay estimator need to use random catalogs that reflect survey geometry\n",
    "- For `NKCorrelation` the second parameter has to be the data with `k`"
   ]
  },
  {
   "cell_type": "code",
   "execution_count": 1,
   "metadata": {
    "collapsed": false
   },
   "outputs": [],
   "source": [
    "import numpy as np\n",
    "import pandas as pd\n",
    "import matplotlib.pyplot as plt\n",
    "import seaborn; seaborn.set()\n",
    "import treecorr\n",
    "from astropy.cosmology import Planck13 as cosmo\n",
    "from astropy import units\n",
    "\n",
    "%matplotlib inline\n",
    "\n",
    "%load_ext autoreload\n",
    "%autoreload 2"
   ]
  },
  {
   "cell_type": "code",
   "execution_count": 2,
   "metadata": {
    "collapsed": true
   },
   "outputs": [],
   "source": [
    "from catalog_munging import load_all_pointings, make_dataframe"
   ]
  },
  {
   "cell_type": "code",
   "execution_count": 3,
   "metadata": {
    "collapsed": false
   },
   "outputs": [],
   "source": [
    "import matplotlib\n",
    "matplotlib.rcParams[\"axes.labelsize\"] = 20\n",
    "matplotlib.rcParams[\"axes.titlesize\"] = 20\n",
    "matplotlib.rcParams[\"legend.fontsize\"] = 20"
   ]
  },
  {
   "cell_type": "code",
   "execution_count": 4,
   "metadata": {
    "collapsed": true
   },
   "outputs": [],
   "source": [
    "import astrolabels\n",
    "al = astrolabels.AstroLabels()"
   ]
  },
  {
   "cell_type": "markdown",
   "metadata": {
    "collapsed": true
   },
   "source": [
    "## Landy-Szalay Estimator"
   ]
  },
  {
   "cell_type": "code",
   "execution_count": 5,
   "metadata": {
    "collapsed": true
   },
   "outputs": [],
   "source": [
    "def landyszalay_crosscorr(data1, data2, rand, weighted=True, config=None):\n",
    "    \"\"\"Return the LS estimation of the 2-point cross-correlation function.\"\"\"\n",
    "    \n",
    "    # TO DO: add real checks on config\n",
    "    if config is None:\n",
    "        raise ValueError('must supply a config dict')\n",
    "\n",
    "    d1r = treecorr.NNCorrelation(config)\n",
    "    rr = treecorr.NNCorrelation(config)\n",
    "    \n",
    "    if weighted is False:\n",
    "        d1d2 = treecorr.NNCorrelation(config)\n",
    "        d2r = treecorr.NNCorrelation(config)\n",
    "    else:\n",
    "        d1d2 = treecorr.NKCorrelation(config)\n",
    "        d2r = treecorr.NKCorrelation(config)\n",
    "    \n",
    "    d1d2.process(data1, data2)  # lens-source\n",
    "    d2r.process(rand, data2)  # rand-source\n",
    "    d1r.process(data1, rand)  # lens-rand\n",
    "    rr.process(rand)\n",
    "\n",
    "    d1d2_norm = d1d2.npairs/(data1.nobj*data2.nobj)\n",
    "    d1r_norm = d1r.npairs/(data1.nobj*rand.nobj)\n",
    "    d2r_norm = d2r.npairs/(data2.nobj*rand.nobj)\n",
    "    rr_norm = 2.*rr.npairs/(rand.nobj*(rand.nobj-1.))  # count both permutations!\n",
    "    \n",
    "    corr = (d1d2_norm - d1r_norm - d2r_norm + rr_norm)/rr_norm   \n",
    "    rbins = 10.**d1d2.logr\n",
    "\n",
    "    return corr, rbins"
   ]
  },
  {
   "cell_type": "code",
   "execution_count": 6,
   "metadata": {
    "collapsed": false
   },
   "outputs": [],
   "source": [
    "#help(treecorr.NKCorrelation.process_pairwise)\n",
    "#help(treecorr.NKCorrelation.process_cross)\n",
    "#help(treecorr.NKCorrelation.process)"
   ]
  },
  {
   "cell_type": "markdown",
   "metadata": {},
   "source": [
    "## Test correlation of random points"
   ]
  },
  {
   "cell_type": "code",
   "execution_count": 7,
   "metadata": {
    "collapsed": false
   },
   "outputs": [],
   "source": [
    "# need to understand correct use of config, esp. physical sep_units?\n",
    "# From documentation: \"Exactly three of nbins, bin_size, min_sep, max_sep are required\"\n",
    "rmax=5.\n",
    "#config = {'nbins' : 10, 'min_sep' : 1., 'max_sep' : 100., 'sep_units' : 'arcmin'}\n",
    "#config = {'nbins' : 10, 'min_sep' : 0.1, 'max_sep' : rmax*0.3, 'r_col' : 'Mpc'}\n",
    "config = {'nbins' : 10, 'min_sep' : 0.1, 'max_sep' : rmax*0.3}"
   ]
  },
  {
   "cell_type": "code",
   "execution_count": 8,
   "metadata": {
    "collapsed": false
   },
   "outputs": [],
   "source": [
    "def get_fake_data(n1=200, n2=1000, nrand=1000, weighted=True):\n",
    "    rand = treecorr.Catalog(x=np.random.rand(nrand)*rmax, \n",
    "                            y=np.random.rand(nrand)*rmax)\n",
    "    data1 = treecorr.Catalog(x=np.random.rand(n1)*rmax, \n",
    "                             y=np.random.rand(n1)*rmax)\n",
    "    if weighted is True:\n",
    "        data2 = treecorr.Catalog(x=np.random.rand(n2)*rmax, \n",
    "                                 y=np.random.rand(n2)*rmax, \n",
    "                                 k=np.ones(n2))\n",
    "    else:\n",
    "        data2 = treecorr.Catalog(x=np.random.rand(n2)*rmax, \n",
    "                                 y=np.random.rand(n2)*rmax)\n",
    "    return data1, data2, rand"
   ]
  },
  {
   "cell_type": "code",
   "execution_count": 9,
   "metadata": {
    "collapsed": false
   },
   "outputs": [],
   "source": [
    "data1, data2, rand = get_fake_data()"
   ]
  },
  {
   "cell_type": "code",
   "execution_count": 10,
   "metadata": {
    "collapsed": false
   },
   "outputs": [
    {
     "data": {
      "text/plain": [
       "array([ 0.02354276,  0.06884154,  0.01229914,  0.0705798 ,  0.02739917,\n",
       "        0.00314555,  0.03783894, -0.02460977, -0.02546812,  0.00222669])"
      ]
     },
     "execution_count": 10,
     "metadata": {},
     "output_type": "execute_result"
    }
   ],
   "source": [
    "corr, r = landyszalay_crosscorr(data1, data2, rand, \n",
    "                                weighted=True, config=config)\n",
    "corr"
   ]
  },
  {
   "cell_type": "code",
   "execution_count": 11,
   "metadata": {
    "collapsed": false
   },
   "outputs": [],
   "source": [
    "ntimes = 100\n",
    "correlations = []\n",
    "for i in range(ntimes):\n",
    "    data1, data2, rand = get_fake_data()\n",
    "    c, r = landyszalay_crosscorr(data1, data2, rand, \n",
    "                                 weighted=True, config=config)\n",
    "    correlations.append(c)\n",
    "\n",
    "correlations = np.array(correlations)\n",
    "\n",
    "corr = correlations.mean(axis=0)\n",
    "stddev = correlations.std(axis=0)\n",
    "stderr = stddev/np.sqrt(ntimes)\n",
    "\n",
    "#print(corr)\n",
    "#print(stderr)"
   ]
  },
  {
   "cell_type": "code",
   "execution_count": 12,
   "metadata": {
    "collapsed": false
   },
   "outputs": [
    {
     "data": {
      "text/plain": [
       "<matplotlib.text.Text at 0x11a231588>"
      ]
     },
     "execution_count": 12,
     "metadata": {},
     "output_type": "execute_result"
    },
    {
     "data": {
      "image/png": "[encoded data removed]",
      "text/plain": [
       "<matplotlib.figure.Figure at 0x11a1f0240>"
      ]
     },
     "metadata": {},
     "output_type": "display_data"
    }
   ],
   "source": [
    "plt.errorbar(r, corr, yerr=stderr, fmt='o')\n",
    "plt.xscale('log')\n",
    "plt.title('Cross-correlation of random points')\n",
    "plt.xlabel(al.r_mpc)\n",
    "plt.ylabel('$\\mathrm{w}(R)$')"
   ]
  },
  {
   "cell_type": "markdown",
   "metadata": {},
   "source": [
    "## Source data for W1"
   ]
  },
  {
   "cell_type": "code",
   "execution_count": 13,
   "metadata": {
    "collapsed": true
   },
   "outputs": [],
   "source": [
    "udrop_path = '/Users/jesford/astrophysics/data/cfhtls/LBGS/WIDE/udrops/'\n",
    "udata = load_all_pointings('W1', path=udrop_path)"
   ]
  },
  {
   "cell_type": "code",
   "execution_count": 14,
   "metadata": {
    "collapsed": false
   },
   "outputs": [
    {
     "data": {
      "text/html": [
       "<div>\n",
       "<table border=\"1\" class=\"dataframe\">\n",
       "  <thead>\n",
       "    <tr style=\"text-align: right;\">\n",
       "      <th></th>\n",
       "      <th>x[0]</th>\n",
       "      <th>x[1]</th>\n",
       "      <th>RA</th>\n",
       "      <th>DEC</th>\n",
       "      <th>MAG_TOT_g</th>\n",
       "      <th>MAG_TOT_r</th>\n",
       "      <th>MAG_AUTO</th>\n",
       "      <th>MAG_TOT_z</th>\n",
       "      <th>am1</th>\n",
       "      <th>z</th>\n",
       "      <th>dmag_g</th>\n",
       "      <th>dmag_r</th>\n",
       "      <th>dmag_i</th>\n",
       "      <th>dmag_z</th>\n",
       "    </tr>\n",
       "  </thead>\n",
       "  <tbody>\n",
       "    <tr>\n",
       "      <th>0</th>\n",
       "      <td>11605.118</td>\n",
       "      <td>1332.244</td>\n",
       "      <td>34.442415</td>\n",
       "      <td>-7.473653</td>\n",
       "      <td>24.6383</td>\n",
       "      <td>24.0592</td>\n",
       "      <td>24.2164</td>\n",
       "      <td>24.9847</td>\n",
       "      <td>1.549960</td>\n",
       "      <td>3.1</td>\n",
       "      <td>-0.292730</td>\n",
       "      <td>-0.559807</td>\n",
       "      <td>-0.117846</td>\n",
       "      <td>0.831743</td>\n",
       "    </tr>\n",
       "    <tr>\n",
       "      <th>1</th>\n",
       "      <td>2098.610</td>\n",
       "      <td>1342.422</td>\n",
       "      <td>34.937767</td>\n",
       "      <td>-7.472915</td>\n",
       "      <td>25.0159</td>\n",
       "      <td>24.7888</td>\n",
       "      <td>24.4280</td>\n",
       "      <td>24.6757</td>\n",
       "      <td>0.595831</td>\n",
       "      <td>3.1</td>\n",
       "      <td>0.084869</td>\n",
       "      <td>0.169792</td>\n",
       "      <td>0.093754</td>\n",
       "      <td>0.522743</td>\n",
       "    </tr>\n",
       "    <tr>\n",
       "      <th>2</th>\n",
       "      <td>3143.255</td>\n",
       "      <td>1340.603</td>\n",
       "      <td>34.883336</td>\n",
       "      <td>-7.473059</td>\n",
       "      <td>23.9368</td>\n",
       "      <td>23.4518</td>\n",
       "      <td>22.4929</td>\n",
       "      <td>21.6854</td>\n",
       "      <td>3.011820</td>\n",
       "      <td>3.1</td>\n",
       "      <td>-0.994230</td>\n",
       "      <td>-1.167210</td>\n",
       "      <td>-1.841340</td>\n",
       "      <td>-2.467560</td>\n",
       "    </tr>\n",
       "    <tr>\n",
       "      <th>3</th>\n",
       "      <td>18167.999</td>\n",
       "      <td>1361.317</td>\n",
       "      <td>34.100447</td>\n",
       "      <td>-7.471975</td>\n",
       "      <td>24.2006</td>\n",
       "      <td>23.9439</td>\n",
       "      <td>24.0301</td>\n",
       "      <td>23.7864</td>\n",
       "      <td>1.768430</td>\n",
       "      <td>3.1</td>\n",
       "      <td>-0.730431</td>\n",
       "      <td>-0.675108</td>\n",
       "      <td>-0.304146</td>\n",
       "      <td>-0.366556</td>\n",
       "    </tr>\n",
       "    <tr>\n",
       "      <th>4</th>\n",
       "      <td>1734.356</td>\n",
       "      <td>1365.712</td>\n",
       "      <td>34.956745</td>\n",
       "      <td>-7.471693</td>\n",
       "      <td>25.5145</td>\n",
       "      <td>25.4068</td>\n",
       "      <td>25.3995</td>\n",
       "      <td>24.7231</td>\n",
       "      <td>0.163619</td>\n",
       "      <td>3.1</td>\n",
       "      <td>0.583469</td>\n",
       "      <td>0.787792</td>\n",
       "      <td>1.065250</td>\n",
       "      <td>0.570145</td>\n",
       "    </tr>\n",
       "  </tbody>\n",
       "</table>\n",
       "</div>"
      ],
      "text/plain": [
       "        x[0]      x[1]         RA       DEC  MAG_TOT_g  MAG_TOT_r  MAG_AUTO  \\\n",
       "0  11605.118  1332.244  34.442415 -7.473653    24.6383    24.0592   24.2164   \n",
       "1   2098.610  1342.422  34.937767 -7.472915    25.0159    24.7888   24.4280   \n",
       "2   3143.255  1340.603  34.883336 -7.473059    23.9368    23.4518   22.4929   \n",
       "3  18167.999  1361.317  34.100447 -7.471975    24.2006    23.9439   24.0301   \n",
       "4   1734.356  1365.712  34.956745 -7.471693    25.5145    25.4068   25.3995   \n",
       "\n",
       "   MAG_TOT_z       am1    z    dmag_g    dmag_r    dmag_i    dmag_z  \n",
       "0    24.9847  1.549960  3.1 -0.292730 -0.559807 -0.117846  0.831743  \n",
       "1    24.6757  0.595831  3.1  0.084869  0.169792  0.093754  0.522743  \n",
       "2    21.6854  3.011820  3.1 -0.994230 -1.167210 -1.841340 -2.467560  \n",
       "3    23.7864  1.768430  3.1 -0.730431 -0.675108 -0.304146 -0.366556  \n",
       "4    24.7231  0.163619  3.1  0.583469  0.787792  1.065250  0.570145  "
      ]
     },
     "execution_count": 14,
     "metadata": {},
     "output_type": "execute_result"
    }
   ],
   "source": [
    "udf = udata['W1m0m0']\n",
    "udf.head()"
   ]
  },
  {
   "cell_type": "markdown",
   "metadata": {},
   "source": [
    "## Lens data for W1"
   ]
  },
  {
   "cell_type": "code",
   "execution_count": 15,
   "metadata": {
    "collapsed": false
   },
   "outputs": [
    {
     "name": "stdout",
     "output_type": "stream",
     "text": [
      "(10745, 5)\n"
     ]
    },
    {
     "data": {
      "text/html": [
       "<div>\n",
       "<table border=\"1\" class=\"dataframe\">\n",
       "  <thead>\n",
       "    <tr style=\"text-align: right;\">\n",
       "      <th></th>\n",
       "      <th>RA</th>\n",
       "      <th>DEC</th>\n",
       "      <th>z</th>\n",
       "      <th>sig</th>\n",
       "      <th>n200</th>\n",
       "    </tr>\n",
       "  </thead>\n",
       "  <tbody>\n",
       "    <tr>\n",
       "      <th>0</th>\n",
       "      <td>34.8023</td>\n",
       "      <td>-7.01005</td>\n",
       "      <td>0.3</td>\n",
       "      <td>4.435</td>\n",
       "      <td>10</td>\n",
       "    </tr>\n",
       "    <tr>\n",
       "      <th>1</th>\n",
       "      <td>34.9425</td>\n",
       "      <td>-7.38996</td>\n",
       "      <td>0.5</td>\n",
       "      <td>4.545</td>\n",
       "      <td>21</td>\n",
       "    </tr>\n",
       "    <tr>\n",
       "      <th>2</th>\n",
       "      <td>34.8651</td>\n",
       "      <td>-6.69449</td>\n",
       "      <td>0.5</td>\n",
       "      <td>3.858</td>\n",
       "      <td>6</td>\n",
       "    </tr>\n",
       "    <tr>\n",
       "      <th>3</th>\n",
       "      <td>34.6224</td>\n",
       "      <td>-7.32768</td>\n",
       "      <td>0.5</td>\n",
       "      <td>3.619</td>\n",
       "      <td>8</td>\n",
       "    </tr>\n",
       "    <tr>\n",
       "      <th>4</th>\n",
       "      <td>34.4551</td>\n",
       "      <td>-7.18236</td>\n",
       "      <td>0.5</td>\n",
       "      <td>3.622</td>\n",
       "      <td>12</td>\n",
       "    </tr>\n",
       "  </tbody>\n",
       "</table>\n",
       "</div>"
      ],
      "text/plain": [
       "        RA      DEC    z    sig  n200\n",
       "0  34.8023 -7.01005  0.3  4.435    10\n",
       "1  34.9425 -7.38996  0.5  4.545    21\n",
       "2  34.8651 -6.69449  0.5  3.858     6\n",
       "3  34.6224 -7.32768  0.5  3.619     8\n",
       "4  34.4551 -7.18236  0.5  3.622    12"
      ]
     },
     "execution_count": 15,
     "metadata": {},
     "output_type": "execute_result"
    }
   ],
   "source": [
    "# all W1 clusters\n",
    "cluster_path_combined = '/Users/jesford/astrophysics/data/cfhtls/clusters/'\n",
    "cdf_allW1 = make_dataframe(cluster_path_combined+'Clusters_W1.dat')\n",
    "print(cdf_allW1.shape)\n",
    "cdf_allW1.head()"
   ]
  },
  {
   "cell_type": "code",
   "execution_count": 16,
   "metadata": {
    "collapsed": false
   },
   "outputs": [],
   "source": [
    "cluster_path = '/Users/jesford/astrophysics/data/cfhtls/clusters/WIDE/'\n",
    "cdata = load_all_pointings('W1', path=cluster_path)"
   ]
  },
  {
   "cell_type": "code",
   "execution_count": 17,
   "metadata": {
    "collapsed": false
   },
   "outputs": [
    {
     "data": {
      "text/html": [
       "<div>\n",
       "<table border=\"1\" class=\"dataframe\">\n",
       "  <thead>\n",
       "    <tr style=\"text-align: right;\">\n",
       "      <th></th>\n",
       "      <th>RA</th>\n",
       "      <th>DEC</th>\n",
       "      <th>z</th>\n",
       "      <th>sig</th>\n",
       "      <th>x[0]</th>\n",
       "      <th>x[1]</th>\n",
       "      <th>m200</th>\n",
       "      <th>r200</th>\n",
       "      <th>n200</th>\n",
       "    </tr>\n",
       "  </thead>\n",
       "  <tbody>\n",
       "    <tr>\n",
       "      <th>0</th>\n",
       "      <td>34.8023</td>\n",
       "      <td>-7.01005</td>\n",
       "      <td>0.3</td>\n",
       "      <td>4.435</td>\n",
       "      <td>4692.14</td>\n",
       "      <td>10303.70</td>\n",
       "      <td>13.0429</td>\n",
       "      <td>0.437770</td>\n",
       "      <td>9.99850</td>\n",
       "    </tr>\n",
       "    <tr>\n",
       "      <th>1</th>\n",
       "      <td>34.9425</td>\n",
       "      <td>-7.38996</td>\n",
       "      <td>0.5</td>\n",
       "      <td>4.545</td>\n",
       "      <td>2006.82</td>\n",
       "      <td>2948.05</td>\n",
       "      <td>13.0566</td>\n",
       "      <td>0.410869</td>\n",
       "      <td>20.99830</td>\n",
       "    </tr>\n",
       "    <tr>\n",
       "      <th>2</th>\n",
       "      <td>34.8651</td>\n",
       "      <td>-6.69449</td>\n",
       "      <td>0.5</td>\n",
       "      <td>3.858</td>\n",
       "      <td>3481.96</td>\n",
       "      <td>16410.50</td>\n",
       "      <td>12.9714</td>\n",
       "      <td>0.377355</td>\n",
       "      <td>5.99858</td>\n",
       "    </tr>\n",
       "    <tr>\n",
       "      <th>3</th>\n",
       "      <td>34.6224</td>\n",
       "      <td>-7.32768</td>\n",
       "      <td>0.5</td>\n",
       "      <td>3.619</td>\n",
       "      <td>8149.35</td>\n",
       "      <td>4157.43</td>\n",
       "      <td>12.9418</td>\n",
       "      <td>0.366348</td>\n",
       "      <td>7.99867</td>\n",
       "    </tr>\n",
       "    <tr>\n",
       "      <th>4</th>\n",
       "      <td>34.4551</td>\n",
       "      <td>-7.18236</td>\n",
       "      <td>0.5</td>\n",
       "      <td>3.622</td>\n",
       "      <td>11361.90</td>\n",
       "      <td>6970.45</td>\n",
       "      <td>12.9421</td>\n",
       "      <td>0.366484</td>\n",
       "      <td>11.99870</td>\n",
       "    </tr>\n",
       "  </tbody>\n",
       "</table>\n",
       "</div>"
      ],
      "text/plain": [
       "        RA      DEC    z    sig      x[0]      x[1]     m200      r200  \\\n",
       "0  34.8023 -7.01005  0.3  4.435   4692.14  10303.70  13.0429  0.437770   \n",
       "1  34.9425 -7.38996  0.5  4.545   2006.82   2948.05  13.0566  0.410869   \n",
       "2  34.8651 -6.69449  0.5  3.858   3481.96  16410.50  12.9714  0.377355   \n",
       "3  34.6224 -7.32768  0.5  3.619   8149.35   4157.43  12.9418  0.366348   \n",
       "4  34.4551 -7.18236  0.5  3.622  11361.90   6970.45  12.9421  0.366484   \n",
       "\n",
       "       n200  \n",
       "0   9.99850  \n",
       "1  20.99830  \n",
       "2   5.99858  \n",
       "3   7.99867  \n",
       "4  11.99870  "
      ]
     },
     "execution_count": 17,
     "metadata": {},
     "output_type": "execute_result"
    }
   ],
   "source": [
    "cdf = cdata['W1m0m0']\n",
    "cdf.head()"
   ]
  },
  {
   "cell_type": "markdown",
   "metadata": {},
   "source": [
    "## Random (masked) data for W1"
   ]
  },
  {
   "cell_type": "code",
   "execution_count": 18,
   "metadata": {
    "collapsed": true
   },
   "outputs": [],
   "source": [
    "rand_path = '/Users/jesford/astrophysics/data/cfhtls/randoms/'\n",
    "rdata = load_all_pointings('W1', path=rand_path)"
   ]
  },
  {
   "cell_type": "code",
   "execution_count": 19,
   "metadata": {
    "collapsed": false
   },
   "outputs": [
    {
     "data": {
      "text/html": [
       "<div>\n",
       "<table border=\"1\" class=\"dataframe\">\n",
       "  <thead>\n",
       "    <tr style=\"text-align: right;\">\n",
       "      <th></th>\n",
       "      <th>x[0]</th>\n",
       "      <th>x[1]</th>\n",
       "    </tr>\n",
       "  </thead>\n",
       "  <tbody>\n",
       "    <tr>\n",
       "      <th>0</th>\n",
       "      <td>16422.00</td>\n",
       "      <td>3083.39</td>\n",
       "    </tr>\n",
       "    <tr>\n",
       "      <th>1</th>\n",
       "      <td>17604.00</td>\n",
       "      <td>4229.14</td>\n",
       "    </tr>\n",
       "    <tr>\n",
       "      <th>2</th>\n",
       "      <td>16617.30</td>\n",
       "      <td>14149.30</td>\n",
       "    </tr>\n",
       "    <tr>\n",
       "      <th>3</th>\n",
       "      <td>3871.44</td>\n",
       "      <td>18711.50</td>\n",
       "    </tr>\n",
       "    <tr>\n",
       "      <th>4</th>\n",
       "      <td>12293.40</td>\n",
       "      <td>4357.30</td>\n",
       "    </tr>\n",
       "  </tbody>\n",
       "</table>\n",
       "</div>"
      ],
      "text/plain": [
       "       x[0]      x[1]\n",
       "0  16422.00   3083.39\n",
       "1  17604.00   4229.14\n",
       "2  16617.30  14149.30\n",
       "3   3871.44  18711.50\n",
       "4  12293.40   4357.30"
      ]
     },
     "execution_count": 19,
     "metadata": {},
     "output_type": "execute_result"
    }
   ],
   "source": [
    "rdf = rdata['W1m0m0']\n",
    "rdf.head()"
   ]
  },
  {
   "cell_type": "markdown",
   "metadata": {},
   "source": [
    "## Correlate in a redshift bin"
   ]
  },
  {
   "cell_type": "code",
   "execution_count": 20,
   "metadata": {
    "collapsed": true
   },
   "outputs": [],
   "source": [
    "def pix2rad(arr_pix):\n",
    "    \"\"\"Convert CFHTLenS pixels to angle in radians.\"\"\"\n",
    "    # pointings are 0.0031 am/pix\n",
    "    arr_deg = arr_pix * 0.0031 / 60.\n",
    "    arr_rad = np.deg2rad(arr_deg)\n",
    "    return arr_rad"
   ]
  },
  {
   "cell_type": "code",
   "execution_count": 21,
   "metadata": {
    "collapsed": true
   },
   "outputs": [],
   "source": [
    "def get_catalogs(cdf, udf, rdf, redshift=None):\n",
    "    \"\"\"Return TreeCorr Catalog objects in Mpc for each dataframe.\"\"\"\n",
    "    if redshift is None:\n",
    "        raise ValueError('redshift must be a non-negative float')\n",
    "        \n",
    "    dA_lens = cosmo.angular_diameter_distance(redshift)\n",
    "    \n",
    "    cdf_zslice = cdf[np.isclose(cdf.z, redshift)]\n",
    "    \n",
    "    x_lens_mpc = pix2rad(cdf_zslice['x[0]']) * dA_lens\n",
    "    y_lens_mpc = pix2rad(cdf_zslice['x[1]']) * dA_lens\n",
    "    x_source_mpc = pix2rad(udf['x[0]']) * dA_lens\n",
    "    y_source_mpc = pix2rad(udf['x[1]']) * dA_lens\n",
    "    x_rand_mpc = pix2rad(rdf['x[0]']) * dA_lens\n",
    "    y_rand_mpc = pix2rad(rdf['x[1]']) * dA_lens\n",
    "    \n",
    "    lenses = treecorr.Catalog(x=x_lens_mpc, y=y_lens_mpc)\n",
    "    sources = treecorr.Catalog(x=x_source_mpc, y=y_source_mpc, k=udf.am1)\n",
    "    randoms = treecorr.Catalog(x=x_rand_mpc, y=y_rand_mpc)    \n",
    "    \n",
    "    return lenses, sources, randoms"
   ]
  },
  {
   "cell_type": "code",
   "execution_count": 22,
   "metadata": {
    "collapsed": false
   },
   "outputs": [
    {
     "data": {
      "text/plain": [
       "array([ 0.2,  0.3,  0.4,  0.5,  0.6,  0.7,  0.8,  0.9])"
      ]
     },
     "execution_count": 22,
     "metadata": {},
     "output_type": "execute_result"
    }
   ],
   "source": [
    "redshifts = np.arange(0.2,1.,0.1)\n",
    "redshifts"
   ]
  },
  {
   "cell_type": "code",
   "execution_count": 23,
   "metadata": {
    "collapsed": true
   },
   "outputs": [],
   "source": [
    "config = {'nbins' : 10, 'min_sep' : 0.1, 'max_sep' : 5.0}\n",
    "\n",
    "redshift = 0.2\n",
    "\n",
    "pointings_list = list(cdata.keys())\n",
    "correlations = []\n",
    "\n",
    "for pointing in pointings_list:\n",
    "    cdf = cdata[pointing]\n",
    "    udf = udata[pointing]\n",
    "    rdf = rdata[pointing]\n",
    "    \n",
    "    lenses, sources, random = get_catalogs(cdf, udf, rdf, redshift=redshift)\n",
    "    \n",
    "    c, r = landyszalay_crosscorr(lenses, sources, random, weighted=True, \n",
    "                                 config=config)\n",
    "    correlations.append(c)\n",
    "    \n",
    "correlations = np.array(correlations)\n",
    "\n",
    "corr = correlations.mean(axis=0)\n",
    "stddev = correlations.std(axis=0)\n",
    "stderr = stddev/np.sqrt(len(pointings_list))"
   ]
  },
  {
   "cell_type": "code",
   "execution_count": 24,
   "metadata": {
    "collapsed": false
   },
   "outputs": [
    {
     "data": {
      "image/png": "[encoded data removed]",
      "text/plain": [
       "<matplotlib.figure.Figure at 0x11cda66d8>"
      ]
     },
     "metadata": {},
     "output_type": "display_data"
    }
   ],
   "source": [
    "plt.errorbar(r, corr, yerr=stderr, fmt='o')\n",
    "plt.xscale('log')\n",
    "plt.title('W1 Magnification, z = '+str(redshift))\n",
    "plt.xlabel(al.r_mpc)\n",
    "plt.ylabel('$\\mathrm{w}^\\mathrm{opt}(R)$')\n",
    "plt.show()"
   ]
  },
  {
   "cell_type": "code",
   "execution_count": null,
   "metadata": {
    "collapsed": true
   },
   "outputs": [],
   "source": []
  },
  {
   "cell_type": "markdown",
   "metadata": {},
   "source": [
    "## TO DO: \n",
    "- check LBGs are appropriately masked\n",
    "- magnitude & other cuts on LBGs\n",
    "- loop over all fields W1-4\n",
    "- loop over all redshifts\n",
    "- calculate error bars (or covariance matrix) from all pointings"
   ]
  }
 ],
 "metadata": {
  "kernelspec": {
   "display_name": "Python 3",
   "language": "python",
   "name": "python3"
  },
  "language_info": {
   "codemirror_mode": {
    "name": "ipython",
    "version": 3
   },
   "file_extension": ".py",
   "mimetype": "text/x-python",
   "name": "python",
   "nbconvert_exporter": "python",
   "pygments_lexer": "ipython3",
   "version": "3.5.1"
  }
 },
 "nbformat": 4,
 "nbformat_minor": 0
}
